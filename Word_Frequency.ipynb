{
 "cells": [
  {
   "cell_type": "code",
   "execution_count": 16,
   "id": "afbf11a3",
   "metadata": {},
   "outputs": [],
   "source": [
    "import re\n",
    "import string\n",
    "import numpy\n",
    "import pandas as pd\n",
    "import random\n",
    "import math \n",
    "import matplotlib.pyplot as plt\n",
    "#import seaborn as sns\n",
    "from sklearn.linear_model import LogisticRegression\n",
    "from sklearn import preprocessing\n",
    "from sklearn.metrics import log_loss\n",
    "\n",
    "frequency = {}\n",
    "document_text = open('abstracts.txt', 'r', encoding=\"utf8\")\n",
    "text_string = document_text.read().lower()\n",
    "match_pattern = re.findall(r'\\b[a-z]{3,15}\\b', text_string)\n",
    " \n",
    "for word in match_pattern:\n",
    "    count = frequency.get(word,0)\n",
    "    frequency[word] = count + 1\n",
    "\n",
    "\n",
    "for i in list(frequency.keys()):\n",
    "    if frequency[i] == 1 or frequency[i] > 30000:\n",
    "        del frequency[i]\n",
    "    \n",
    "orderedVocabulary = sorted(frequency.items(), key = lambda kv:(kv[1], kv[0]))\n",
    "\n",
    "finalVocabulary = []\n",
    "\n",
    "\n",
    "for pair in orderedVocabulary:\n",
    "    finalVocabulary.append(pair[0])\n",
    "\n",
    "with open('vocabulary.txt', 'w') as f:\n",
    "    for word in finalVocabulary:\n",
    "        f.write(word)\n",
    "        f.write('\\n')\n",
    "\n"
   ]
  },
  {
   "cell_type": "code",
   "execution_count": 17,
   "id": "df7bfa92",
   "metadata": {},
   "outputs": [],
   "source": [
    "\n",
    "document_text = open('abstracts.txt', 'r', encoding=\"utf8\")\n",
    "text_string = document_text.read().lower()\n",
    "abstracts = re.findall(\"([0-9]+)\\|--\\|(.*)\", text_string)\n"
   ]
  },
  {
   "cell_type": "code",
   "execution_count": 18,
   "id": "92bd874d",
   "metadata": {},
   "outputs": [],
   "source": [
    "def concurrentOcc(s0, s1, splitter):\n",
    "    s0List = s0.split(splitter)\n",
    "    s1List = s1.split(splitter)\n",
    "    if splitter == \" \":\n",
    "        return len(list((set(s0List) & set(finalVocabulary)) & (set(s1List) & set(finalVocabulary))))\n",
    "    elif splitter == \",\":\n",
    "        return len(list(set(s0List) & set(s1List)))\n"
   ]
  },
  {
   "cell_type": "code",
   "execution_count": 19,
   "id": "19a21a5c",
   "metadata": {},
   "outputs": [],
   "source": [
    "document_text = open('authors.txt', 'r', encoding=\"utf8\")\n",
    "text_string = document_text.read().lower()\n",
    "authors = re.findall(\"([0-9]+)\\|--\\|(.*)\", text_string)\n",
    "\n"
   ]
  },
  {
   "cell_type": "code",
   "execution_count": 20,
   "id": "1af5bdda",
   "metadata": {},
   "outputs": [],
   "source": [
    "document_text = open('edgelist.txt', 'r', encoding=\"utf8\")\n",
    "text_string = document_text.read()\n",
    "edgelist = re.findall(\"([0-9]+),([0-9]+)\", text_string)\n",
    "\n"
   ]
  },
  {
   "cell_type": "code",
   "execution_count": 21,
   "id": "4b75107b",
   "metadata": {},
   "outputs": [
    {
     "name": "stdout",
     "output_type": "stream",
     "text": [
      "Degrees found\n"
     ]
    },
    {
     "data": {
      "text/html": [
       "<div>\n",
       "<style scoped>\n",
       "    .dataframe tbody tr th:only-of-type {\n",
       "        vertical-align: middle;\n",
       "    }\n",
       "\n",
       "    .dataframe tbody tr th {\n",
       "        vertical-align: top;\n",
       "    }\n",
       "\n",
       "    .dataframe thead th {\n",
       "        text-align: right;\n",
       "    }\n",
       "</style>\n",
       "<table border=\"1\" class=\"dataframe\">\n",
       "  <thead>\n",
       "    <tr style=\"text-align: right;\">\n",
       "      <th></th>\n",
       "      <th>edge_count_0</th>\n",
       "      <th>edge_count_1</th>\n",
       "      <th>common_words</th>\n",
       "      <th>common_authors</th>\n",
       "      <th>answers</th>\n",
       "    </tr>\n",
       "  </thead>\n",
       "  <tbody>\n",
       "    <tr>\n",
       "      <th>0</th>\n",
       "      <td>237</td>\n",
       "      <td>5</td>\n",
       "      <td>4</td>\n",
       "      <td>0</td>\n",
       "      <td>1</td>\n",
       "    </tr>\n",
       "    <tr>\n",
       "      <th>1</th>\n",
       "      <td>237</td>\n",
       "      <td>17</td>\n",
       "      <td>1</td>\n",
       "      <td>0</td>\n",
       "      <td>0</td>\n",
       "    </tr>\n",
       "    <tr>\n",
       "      <th>2</th>\n",
       "      <td>7</td>\n",
       "      <td>2</td>\n",
       "      <td>22</td>\n",
       "      <td>0</td>\n",
       "      <td>1</td>\n",
       "    </tr>\n",
       "    <tr>\n",
       "      <th>3</th>\n",
       "      <td>7</td>\n",
       "      <td>2</td>\n",
       "      <td>2</td>\n",
       "      <td>0</td>\n",
       "      <td>0</td>\n",
       "    </tr>\n",
       "    <tr>\n",
       "      <th>4</th>\n",
       "      <td>31</td>\n",
       "      <td>33</td>\n",
       "      <td>2</td>\n",
       "      <td>0</td>\n",
       "      <td>1</td>\n",
       "    </tr>\n",
       "  </tbody>\n",
       "</table>\n",
       "</div>"
      ],
      "text/plain": [
       "   edge_count_0  edge_count_1  common_words  common_authors  answers\n",
       "0           237             5             4               0        1\n",
       "1           237            17             1               0        0\n",
       "2             7             2            22               0        1\n",
       "3             7             2             2               0        0\n",
       "4            31            33             2               0        1"
      ]
     },
     "execution_count": 21,
     "metadata": {},
     "output_type": "execute_result"
    }
   ],
   "source": [
    "def findDegree():\n",
    "    count= {}\n",
    "    i=0\n",
    "    while i<=138498:\n",
    "        count[str(i)] = 0\n",
    "        i+=1  \n",
    "    for pair in edgelist:\n",
    "        count[pair[0]] += 1 \n",
    "        count[pair[1]] += 1 \n",
    "    return count\n",
    "\n",
    "edgeDegree = findDegree()\n",
    "print(\"Degrees found\")\n",
    "\n",
    "edgecount0 = []\n",
    "edgecount1 = []\n",
    "commonWords = []\n",
    "commonAuthors = []\n",
    "answers = []\n",
    "\n",
    "# Random 1000 or so pairs\n",
    "\n",
    "j = 1\n",
    "negativeRecord = None\n",
    "randSelectedPair = None\n",
    "while j <= 1000:\n",
    "    randSelectedPair = random.randint(0, len(edgelist))\n",
    "    # Appending a positive record\n",
    "    pair = edgelist[randSelectedPair]\n",
    "    edgecount0.append(edgeDegree[pair[0]])\n",
    "    edgecount1.append(edgeDegree[pair[1]])\n",
    "    commonWords.append(concurrentOcc(abstracts[int(pair[0])][1], abstracts[int(pair[1])][1], \" \"))\n",
    "    commonAuthors.append(concurrentOcc(authors[int(pair[0])][1], authors[int(pair[1])][1], \",\"))\n",
    "    answers.append(1)\n",
    "    # Appending a (possibly) negative record\n",
    "    negativeRecord = int(pair[0]) + 1281\n",
    "    if negativeRecord > (len(edgeDegree)-1):\n",
    "        negativeRecord -= int(pair[0]) - 281\n",
    "    edgecount0.append(edgeDegree[pair[0]])\n",
    "    edgecount1.append(edgeDegree[str(negativeRecord)])\n",
    "    commonWords.append(concurrentOcc(abstracts[int(pair[0])][1], abstracts[negativeRecord][1], \" \"))\n",
    "    commonAuthors.append(concurrentOcc(authors[int(pair[0])][1], authors[negativeRecord][1], \",\"))\n",
    "    answers.append(0)\n",
    "    j+=1\n",
    "\n",
    "\n",
    "# First 1000 or so pairs\n",
    "\"\"\"\n",
    "for pair in edgelist[0:1000]:\n",
    "    edgecount0.append(edgeDegree[pair[0]])\n",
    "    edgecount1.append(edgeDegree[pair[1]])\n",
    "    commonWords.append(concurrentOcc(abstracts[int(pair[0])][1], abstracts[int(pair[1])][1], \" \"))\n",
    "    commonAuthors.append(concurrentOcc(authors[int(pair[0])][1], authors[int(pair[1])][1], \",\"))\n",
    "\"\"\"\n",
    "\n",
    "df=pd.DataFrame()\n",
    "#df.columns=['edge_count_0', 'edge_count_1', 'common_words', 'common_authors']\n",
    "df[\"edge_count_0\"] = edgecount0\n",
    "df[\"edge_count_1\"] = edgecount1\n",
    "df[\"common_words\"] = commonWords\n",
    "df[\"common_authors\"] = commonAuthors\n",
    "df[\"answers\"] = answers\n",
    "df.head()"
   ]
  },
  {
   "cell_type": "code",
   "execution_count": 22,
   "id": "56e4f8a4",
   "metadata": {},
   "outputs": [],
   "source": [
    "# Define our split-percentages\n",
    "train = 0.6;\n",
    "validation = 0.2;\n",
    "test = 0.2;"
   ]
  },
  {
   "cell_type": "code",
   "execution_count": 23,
   "id": "ff1d4e6e",
   "metadata": {},
   "outputs": [],
   "source": [
    "# Number of instances\n",
    "numberOfData = len(df);\n",
    "\n",
    "# Number of train-validation-test instances\n",
    "trainData = math.floor(numberOfData * train);\n",
    "validationData = math.floor(numberOfData * validation);\n",
    "testData = math.floor(numberOfData * test);"
   ]
  },
  {
   "cell_type": "code",
   "execution_count": 24,
   "id": "427c56ba",
   "metadata": {},
   "outputs": [],
   "source": [
    "trainDataset = df[0:trainData];\n",
    "validationDataset = df[trainData:(trainData + validationData)];\n",
    "testDataset = df[(trainData + validationData):numberOfData];"
   ]
  },
  {
   "cell_type": "code",
   "execution_count": 25,
   "id": "86e41093",
   "metadata": {},
   "outputs": [
    {
     "name": "stderr",
     "output_type": "stream",
     "text": [
      "C:\\Users\\dvlan\\AppData\\Local\\Temp/ipykernel_3080/84815015.py:1: FutureWarning: In a future version of pandas all arguments of DataFrame.drop except for the argument 'labels' will be keyword-only\n",
      "  X_train = trainDataset.drop('answers', 1);\n",
      "C:\\Users\\dvlan\\AppData\\Local\\Temp/ipykernel_3080/84815015.py:4: FutureWarning: In a future version of pandas all arguments of DataFrame.drop except for the argument 'labels' will be keyword-only\n",
      "  X_validation = validationDataset.drop('answers', 1);\n",
      "C:\\Users\\dvlan\\AppData\\Local\\Temp/ipykernel_3080/84815015.py:7: FutureWarning: In a future version of pandas all arguments of DataFrame.drop except for the argument 'labels' will be keyword-only\n",
      "  X_test = testDataset.drop('answers', 1);\n"
     ]
    }
   ],
   "source": [
    "X_train = trainDataset.drop('answers', 1);\n",
    "y_train = trainDataset.answers;\n",
    "\n",
    "X_validation = validationDataset.drop('answers', 1);\n",
    "y_validation = validationDataset.answers;\n",
    "\n",
    "X_test = testDataset.drop('answers', 1);\n",
    "y_test = testDataset.answers;"
   ]
  },
  {
   "cell_type": "code",
   "execution_count": 26,
   "id": "cab99cc2",
   "metadata": {},
   "outputs": [],
   "source": [
    "# Log loss works as a mapper, so we need a base model and logistic regression is a good idea.\n",
    "lr_model = LogisticRegression(solver='lbfgs');\n",
    "# The error is occuring because we only have positive train date (prefferably we need a 50/50 analogy)\n",
    "lr_model.fit(X_train, y_train);"
   ]
  },
  {
   "cell_type": "code",
   "execution_count": 34,
   "id": "2b989dc4",
   "metadata": {},
   "outputs": [
    {
     "name": "stdout",
     "output_type": "stream",
     "text": [
      "400\n",
      "400\n"
     ]
    }
   ],
   "source": [
    "y_pred = lr_model.predict(X_validation)\n",
    "a = pd.DataFrame({'Actual value': y_validation, 'Predicted value':y_pred})\n",
    "a.head()\n"
   ]
  },
  {
   "cell_type": "code",
   "execution_count": 37,
   "id": "e29a1911",
   "metadata": {},
   "outputs": [
    {
     "name": "stdout",
     "output_type": "stream",
     "text": [
      "              precision    recall  f1-score   support\n",
      "\n",
      "           0       0.74      0.73      0.74       200\n",
      "           1       0.74      0.74      0.74       200\n",
      "\n",
      "    accuracy                           0.74       400\n",
      "   macro avg       0.74      0.74      0.74       400\n",
      "weighted avg       0.74      0.74      0.74       400\n",
      "\n"
     ]
    },
    {
     "data": {
      "image/png": "[encoded data removed]",
      "text/plain": [
       "<Figure size 432x288 with 2 Axes>"
      ]
     },
     "metadata": {
      "needs_background": "light"
     },
     "output_type": "display_data"
    }
   ],
   "source": [
    "predicted=numpy.array(y_pred)\n",
    "actual=y_validation.to_numpy()\n",
    "\n",
    "import seaborn as sns\n",
    "from sklearn import metrics \n",
    "from sklearn.metrics import classification_report, confusion_matrix\n",
    "matrix = confusion_matrix(actual, predicted)\n",
    "sns.heatmap(matrix, annot=True, fmt=\"d\")\n",
    "plt.title('Confusion Matrix')\n",
    "plt.xlabel('Predicted')\n",
    "plt.ylabel('True')\n",
    "print(classification_report(actual, predicted))"
   ]
  },
  {
   "cell_type": "code",
   "execution_count": 28,
   "id": "c97ec1ef",
   "metadata": {},
   "outputs": [
    {
     "data": {
      "text/plain": [
       "0.5295964232737428"
      ]
     },
     "execution_count": 28,
     "metadata": {},
     "output_type": "execute_result"
    }
   ],
   "source": [
    "\n",
    "logloss = log_loss(y_validation, lr_model.predict_proba(X_validation))\n",
    "logloss"
   ]
  },
  {
   "cell_type": "code",
   "execution_count": 29,
   "id": "69f8a87e",
   "metadata": {},
   "outputs": [
    {
     "data": {
      "text/html": [
       "<div>\n",
       "<style scoped>\n",
       "    .dataframe tbody tr th:only-of-type {\n",
       "        vertical-align: middle;\n",
       "    }\n",
       "\n",
       "    .dataframe tbody tr th {\n",
       "        vertical-align: top;\n",
       "    }\n",
       "\n",
       "    .dataframe thead th {\n",
       "        text-align: right;\n",
       "    }\n",
       "</style>\n",
       "<table border=\"1\" class=\"dataframe\">\n",
       "  <thead>\n",
       "    <tr style=\"text-align: right;\">\n",
       "      <th></th>\n",
       "      <th>edge_count_0</th>\n",
       "      <th>edge_count_1</th>\n",
       "      <th>common_words</th>\n",
       "      <th>common_authors</th>\n",
       "    </tr>\n",
       "  </thead>\n",
       "  <tbody>\n",
       "    <tr>\n",
       "      <th>0</th>\n",
       "      <td>62</td>\n",
       "      <td>31</td>\n",
       "      <td>6</td>\n",
       "      <td>0</td>\n",
       "    </tr>\n",
       "    <tr>\n",
       "      <th>1</th>\n",
       "      <td>7</td>\n",
       "      <td>18</td>\n",
       "      <td>0</td>\n",
       "      <td>0</td>\n",
       "    </tr>\n",
       "    <tr>\n",
       "      <th>2</th>\n",
       "      <td>16</td>\n",
       "      <td>256</td>\n",
       "      <td>2</td>\n",
       "      <td>0</td>\n",
       "    </tr>\n",
       "    <tr>\n",
       "      <th>3</th>\n",
       "      <td>72</td>\n",
       "      <td>5</td>\n",
       "      <td>0</td>\n",
       "      <td>0</td>\n",
       "    </tr>\n",
       "    <tr>\n",
       "      <th>4</th>\n",
       "      <td>28</td>\n",
       "      <td>9</td>\n",
       "      <td>1</td>\n",
       "      <td>0</td>\n",
       "    </tr>\n",
       "  </tbody>\n",
       "</table>\n",
       "</div>"
      ],
      "text/plain": [
       "   edge_count_0  edge_count_1  common_words  common_authors\n",
       "0            62            31             6               0\n",
       "1             7            18             0               0\n",
       "2            16           256             2               0\n",
       "3            72             5             0               0\n",
       "4            28             9             1               0"
      ]
     },
     "execution_count": 29,
     "metadata": {},
     "output_type": "execute_result"
    }
   ],
   "source": [
    "# Now or the real test data\n",
    "document_text = open('test.txt', 'r', encoding=\"utf8\")\n",
    "text_string = document_text.read()\n",
    "testlist = re.findall(\"([0-9]+),([0-9]+)\", text_string)\n",
    "\n",
    "edgecount0 = []\n",
    "edgecount1 = []\n",
    "commonWords = []\n",
    "commonAuthors = []\n",
    "\n",
    "\n",
    "for pair in testlist:\n",
    "    edgecount0.append(edgeDegree[pair[0]])\n",
    "    edgecount1.append(edgeDegree[pair[1]])\n",
    "    commonWords.append(concurrentOcc(abstracts[int(pair[0])][1], abstracts[int(pair[1])][1], \" \"))\n",
    "    commonAuthors.append(concurrentOcc(authors[int(pair[0])][1], authors[int(pair[1])][1], \",\"))\n",
    "\n",
    "\n",
    "\n",
    "df=pd.DataFrame()\n",
    "#df.columns=['edge_count_0', 'edge_count_1', 'common_words', 'common_authors']\n",
    "df[\"edge_count_0\"] = edgecount0\n",
    "df[\"edge_count_1\"] = edgecount1\n",
    "df[\"common_words\"] = commonWords\n",
    "df[\"common_authors\"] = commonAuthors\n",
    "df.head()"
   ]
  },
  {
   "cell_type": "code",
   "execution_count": 30,
   "id": "431382dd",
   "metadata": {},
   "outputs": [],
   "source": [
    "y_pred = lr_model.predict_proba(df)\n",
    "y_pred = y_pred[:,1]\n",
    "\n",
    "\n",
    "submissionFrame = pd.DataFrame();\n",
    "submissionFrame[\"id\"] = range(len(y_pred))\n",
    "submissionFrame[\"predicted\"] = y_pred\n",
    "submissionFrame.to_csv('submissionFile.csv', index = False)"
   ]
  }
 ],
 "metadata": {
  "kernelspec": {
   "display_name": "Python 3 (ipykernel)",
   "language": "python",
   "name": "python3"
  },
  "language_info": {
   "codemirror_mode": {
    "name": "ipython",
    "version": 3
   },
   "file_extension": ".py",
   "mimetype": "text/x-python",
   "name": "python",
   "nbconvert_exporter": "python",
   "pygments_lexer": "ipython3",
   "version": "3.9.7"
  }
 },
 "nbformat": 4,
 "nbformat_minor": 5
}
